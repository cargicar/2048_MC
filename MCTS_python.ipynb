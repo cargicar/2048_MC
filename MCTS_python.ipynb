{
 "cells": [
  {
   "cell_type": "markdown",
   "id": "0f6d28c4",
   "metadata": {},
   "source": [
    "Let me start by implementing the simply tree search that i already have in fortran"
   ]
  },
  {
   "cell_type": "code",
   "execution_count": 1,
   "id": "f7d6ad72",
   "metadata": {},
   "outputs": [],
   "source": [
    "import numpy as np\n",
    "from environment_2048 import env_2048\n",
    "from IPython.display import clear_output\n",
    "import random\n",
    "from matplotlib import pylab as plt\n",
    "import operator"
   ]
  },
  {
   "cell_type": "code",
   "execution_count": 4,
   "id": "9d7d39ea",
   "metadata": {},
   "outputs": [],
   "source": [
    "def simulation(env, state):\n",
    "    board=np.copy(state) \n",
    "    moves=True\n",
    "    score=0\n",
    "    i=0\n",
    "    while moves:\n",
    "        i+=1\n",
    "        am=env.available_moves(board)\n",
    "        moves=not all(am==-1)\n",
    "        if not moves:\n",
    "            break\n",
    "        rnd_move=np.random.choice(am)\n",
    "        board, score=env.step(board, rnd_move, score)\n",
    "    return board, score\n",
    "    "
   ]
  },
  {
   "cell_type": "markdown",
   "id": "6cd85c67",
   "metadata": {},
   "source": [
    "# Graphics interface"
   ]
  },
  {
   "cell_type": "code",
   "execution_count": 2,
   "id": "570a7e30",
   "metadata": {},
   "outputs": [],
   "source": [
    "def render(board,paso, title = 'Current game'):\n",
    "        \"\"\" Draws a colored game board \"\"\"\n",
    "        cell_colors = {\n",
    "            0: '#FFFFFF',\n",
    "            2: '#EEE4DA',\n",
    "            4: '#ECE0C8',\n",
    "            8: '#ECB280',\n",
    "            16:'#EC8D53',\n",
    "            32:'#F57C5F',\n",
    "            64:'#E95937',\n",
    "            128:'#F3D96B',\n",
    "            256:'#F2D04A',\n",
    "            512:'#E5BF2E',\n",
    "            1024:'#E2B814',\n",
    "            2048:'#EBC502',\n",
    "            4096:'#00A2D8',\n",
    "            8192:'#9ED682',\n",
    "            16384:'#9ED682',\n",
    "            32768:'#9ED682',\n",
    "            65536:'#9ED682',\n",
    "            131072:'#9ED682',\n",
    "        }\n",
    "        \n",
    "        ncols = 4\n",
    "        nrows = 4\n",
    "\n",
    "        # create the plots\n",
    "        fig = plt.figure(figsize=(7,7))\n",
    "        plt.suptitle(title)\n",
    "        axes = [ fig.add_subplot(nrows, ncols, r * ncols + c) for r in range(0, nrows) for c in range(1, ncols+1) ]\n",
    "\n",
    "        # add some data\n",
    "        v = np.reshape(board, -1)\n",
    "        for i, ax in enumerate(axes):\n",
    "            ax.text(0.5, 0.5, str(int(v[i])), horizontalalignment='center', verticalalignment='center')\n",
    "            ax.set_facecolor(cell_colors[int(v[i])])\n",
    "\n",
    "        # remove the x and y ticks\n",
    "        for ax in axes:\n",
    "            ax.set_xticks([])\n",
    "            ax.set_yticks([])\n",
    "\n",
    "        plt.show()\n",
    "        plt.close()\n",
    "        \n",
    "def render_save(board,paso, title = 'Current game'):\n",
    "        \"\"\" Draws a colored game board \"\"\"\n",
    "        cell_colors = {\n",
    "            0: '#FFFFFF',\n",
    "            2: '#EEE4DA',\n",
    "            4: '#ECE0C8',\n",
    "            8: '#ECB280',\n",
    "            16:'#EC8D53',\n",
    "            32:'#F57C5F',\n",
    "            64:'#E95937',\n",
    "            128:'#F3D96B',\n",
    "            256:'#F2D04A',\n",
    "            512:'#E5BF2E',\n",
    "            1024:'#E2B814',\n",
    "            2048:'#EBC502',\n",
    "            4096:'#00A2D8',\n",
    "            8192:'#9ED682',\n",
    "            16384:'#9ED682',\n",
    "            32768:'#9ED682',\n",
    "            65536:'#9ED682',\n",
    "            131072:'#9ED682',\n",
    "        }\n",
    "        \n",
    "        ncols = 4\n",
    "        nrows = 4\n",
    "\n",
    "        # create the plots\n",
    "        fig = plt.figure(figsize=(7,7))\n",
    "        plt.suptitle(title)\n",
    "        axes = [ fig.add_subplot(nrows, ncols, r * ncols + c) for r in range(0, nrows) for c in range(1, ncols+1) ]\n",
    "\n",
    "        # add some data\n",
    "        v = np.reshape(board, -1)\n",
    "        for i, ax in enumerate(axes):\n",
    "            ax.text(0.5, 0.5, str(int(v[i])), horizontalalignment='center', verticalalignment='center')\n",
    "            ax.set_facecolor(cell_colors[int(v[i])])\n",
    "\n",
    "        # remove the x and y ticks\n",
    "        for ax in axes:\n",
    "            ax.set_xticks([])\n",
    "            ax.set_yticks([])\n",
    "\n",
    "        plt.savefig('animations/frame_'+str(paso)+'.jpg')\n",
    "        plt.close()"
   ]
  },
  {
   "cell_type": "code",
   "execution_count": 3,
   "id": "91dc4116",
   "metadata": {},
   "outputs": [
    {
     "ename": "NameError",
     "evalue": "name 'simulation' is not defined",
     "output_type": "error",
     "traceback": [
      "\u001b[0;31m---------------------------------------------------------------------------\u001b[0m",
      "\u001b[0;31mNameError\u001b[0m                                 Traceback (most recent call last)",
      "\u001b[0;32m<timed exec>\u001b[0m in \u001b[0;36m<module>\u001b[0;34m\u001b[0m\n",
      "\u001b[0;31mNameError\u001b[0m: name 'simulation' is not defined"
     ]
    }
   ],
   "source": [
    "%%time\n",
    "#!rm animations/*.jpg\n",
    "# commands 0:up, 1:right, 2:down, 3:left or Clockwise\n",
    "env=env_2048()\n",
    "sta1=env.reset()\n",
    "\n",
    "sta_final, score_final=simulation(env, sta1)\n",
    "print(sta_final)\n",
    "print(\"score\"+str(score_final))"
   ]
  },
  {
   "cell_type": "code",
   "execution_count": 6,
   "id": "4f93d6b3",
   "metadata": {},
   "outputs": [],
   "source": [
    "def mc_tree(env, state, searches_per_move, simulation_lenght):\n",
    "    average_score=np.zeros(4)\n",
    "    for i in range(4): # Prove the four actions for a unique initial state\n",
    "        mean=0\n",
    "        for j in range(2,searches_per_move):\n",
    "            board=np.copy(state) \n",
    "            score=0\n",
    "            board, score=env.step(board,i,score)\n",
    "            availabe_moves=env.available_moves(board)\n",
    "            moves=not all(availabe_moves==-1)\n",
    "            #if len()==0:\n",
    "            if not moves:\n",
    "                score = score/(simulation_lenght/2)\n",
    "                break\n",
    "            for l in range(2,simulation_lenght):\n",
    "                availabe_moves=env.available_moves(board)\n",
    "                moves=not all(availabe_moves==-1)\n",
    "               # if len(availabe_moves)==0:\n",
    "                if not moves:\n",
    "                    score =  score*(min(l,simulation_lenght/2))/(simulation_lenght/2)\n",
    "                    break\n",
    "                action=random.choice(availabe_moves)\n",
    "                board, score=env.step(board,action,score)\n",
    "                dscore=0\n",
    "                board, dscore=env.step(board,action,score)# same action twice, and record both scores\n",
    "            mean=mean+(score-mean)/j\n",
    "            \n",
    "        average_score[i]=mean\n",
    "    return average_score\n",
    "        "
   ]
  },
  {
   "cell_type": "raw",
   "id": "80845492",
   "metadata": {},
   "source": [
    "env=env_2048()\n",
    "state=env.reset()\n",
    "depth =15\n",
    "ntry =300\n",
    "score=0\n",
    "\n",
    "%load_ext line_profiler\n",
    "%lprun -f simulation simulation(env, state)"
   ]
  },
  {
   "cell_type": "code",
   "execution_count": 12,
   "id": "f46fbd47",
   "metadata": {},
   "outputs": [
    {
     "name": "stdout",
     "output_type": "stream",
     "text": [
      "Game finished\n",
      "[[   4    2  512    2]\n",
      " [   2  128   32   16]\n",
      " [   8 2048   64 1024]\n",
      " [  64    2   32    8]]\n",
      "CPU times: user 1h 5min 21s, sys: 52.9 s, total: 1h 6min 14s\n",
      "Wall time: 1h 5min 35s\n"
     ]
    }
   ],
   "source": [
    "%%time\n",
    "#!rm animations/*.jpg\n",
    "# up = 1, left = 2, down = 3, right = 4 default is up\n",
    "env=env_2048()\n",
    "state=env.reset()\n",
    "#am=env.available_moves(state)\n",
    "i=0\n",
    "score=0\n",
    "moves=True\n",
    "#rep = deque(maxlen=3)\n",
    "best_possible=True\n",
    "depth =15\n",
    "ntry =300\n",
    "while moves:\n",
    "    i+=1\n",
    "    am=env.available_moves(state)\n",
    "    moves=not all(am==-1)\n",
    "    if not moves:\n",
    "        print(\"Game finished\")\n",
    "        break\n",
    "    moves_prob=mc_tree(env, state,ntry,depth)\n",
    "    #print(\"The average scores at step %s are %s\" %(i, moves_prob))\n",
    "    greedy_move=np.argmax(moves_prob)\n",
    "    max_score=np.max(moves_prob)\n",
    "\n",
    "    # It might happend that at some point later in the game, the best move from the tree search \n",
    "    # is not possible anymore (not available), so we might need to choose an action randomly \n",
    "    if greedy_move in am:\n",
    "        best_possible=True\n",
    "    else:\n",
    "        best_possible=False\n",
    "    if best_possible:\n",
    "        greedy_move=greedy_move\n",
    "    else:\n",
    "        greedy_move=np.random.choice(am)\n",
    "        \n",
    "    state, score=env.step(state, greedy_move, score)\n",
    "\n",
    "    print(\"max tile= %s\" %(np.amax(state)) )\n",
    "    #render_save(state,i)\n",
    "    #render(state,i)\n",
    "    print(state)\n",
    "    clear_output(wait=True)\n",
    "print(state)"
   ]
  },
  {
   "cell_type": "markdown",
   "id": "3ce145b6",
   "metadata": {},
   "source": [
    "<font color='#E95937'><font size=6.5> Using fortran environment for speed reasons </font>"
   ]
  },
  {
   "cell_type": "code",
   "execution_count": 135,
   "id": "bf2aca17",
   "metadata": {},
   "outputs": [],
   "source": [
    "import numpy as np\n",
    "from IPython.display import clear_output\n",
    "import random\n",
    "from matplotlib import pylab as plt\n",
    "import operator\n",
    "import environment_2048_fortran\n",
    "from collections import defaultdict, deque"
   ]
  },
  {
   "cell_type": "code",
   "execution_count": 136,
   "id": "f9497dd4",
   "metadata": {},
   "outputs": [
    {
     "data": {
      "text/plain": [
       "'/Users/carloscardona/Dropbox (ASU)/Data_analysis_and_ML/carlos-cardona_com/2048/2048_python'"
      ]
     },
     "execution_count": 136,
     "metadata": {},
     "output_type": "execute_result"
    }
   ],
   "source": [
    "pwd"
   ]
  },
  {
   "cell_type": "code",
   "execution_count": 137,
   "id": "d1954737",
   "metadata": {},
   "outputs": [
    {
     "name": "stdout",
     "output_type": "stream",
     "text": [
      "This module 'environment_2048_fortran' is auto-generated with f2py (version:2).\n",
      "Functions:\n",
      "  add2(m)\n",
      "  merge(m,action,score)\n",
      "  tm = available_moves(m)\n",
      "  mat = reset()\n",
      "  score_out,nmat = step(mat,act,score)\n",
      "  bm = mc_tree(mat,searches_per_move,simulation_lenght)\n",
      ".\n"
     ]
    }
   ],
   "source": [
    "print(environment_2048_fortran.__doc__)"
   ]
  },
  {
   "cell_type": "code",
   "execution_count": 138,
   "id": "8efac189",
   "metadata": {},
   "outputs": [],
   "source": [
    "def render(board,paso, title = 'Current game'):\n",
    "        \"\"\" Draws a colored game board \"\"\"\n",
    "        cell_colors = {\n",
    "            0: '#FFFFFF',\n",
    "            2: '#EEE4DA',\n",
    "            4: '#ECE0C8',\n",
    "            8: '#ECB280',\n",
    "            16:'#EC8D53',\n",
    "            32:'#F57C5F',\n",
    "            64:'#E95937',\n",
    "            128:'#F3D96B',\n",
    "            256:'#F2D04A',\n",
    "            512:'#E5BF2E',\n",
    "            1024:'#E2B814',\n",
    "            2048:'#EBC502',\n",
    "            4096:'#00A2D8',\n",
    "            8192:'#9ED682',\n",
    "            16384:'#9ED682',\n",
    "            32768:'#9ED682',\n",
    "            65536:'#9ED682',\n",
    "            131072:'#9ED682',\n",
    "        }\n",
    "        \n",
    "        ncols = 4\n",
    "        nrows = 4\n",
    "\n",
    "        # create the plots\n",
    "        fig = plt.figure(figsize=(7,7))\n",
    "        plt.suptitle(title)\n",
    "        axes = [ fig.add_subplot(nrows, ncols, r * ncols + c) for r in range(0, nrows) for c in range(1, ncols+1) ]\n",
    "\n",
    "        # add some data\n",
    "        v = np.reshape(board, -1)\n",
    "        for i, ax in enumerate(axes):\n",
    "            ax.text(0.5, 0.5, str(int(v[i])), horizontalalignment='center', verticalalignment='center')\n",
    "            ax.set_facecolor(cell_colors[int(v[i])])\n",
    "\n",
    "        # remove the x and y ticks\n",
    "        for ax in axes:\n",
    "            ax.set_xticks([])\n",
    "            ax.set_yticks([])\n",
    "\n",
    "        plt.show()\n",
    "        plt.close()\n",
    "        \n",
    "def render_save(board,paso, title = 'Current game'):\n",
    "        \"\"\" Draws a colored game board \"\"\"\n",
    "        cell_colors = {\n",
    "            0: '#FFFFFF',\n",
    "            2: '#EEE4DA',\n",
    "            4: '#ECE0C8',\n",
    "            8: '#ECB280',\n",
    "            16:'#EC8D53',\n",
    "            32:'#F57C5F',\n",
    "            64:'#E95937',\n",
    "            128:'#F3D96B',\n",
    "            256:'#F2D04A',\n",
    "            512:'#E5BF2E',\n",
    "            1024:'#E2B814',\n",
    "            2048:'#EBC502',\n",
    "            4096:'#00A2D8',\n",
    "            8192:'#9ED682',\n",
    "            16384:'#9ED682',\n",
    "            32768:'#9ED682',\n",
    "            65536:'#9ED682',\n",
    "            131072:'#9ED682',\n",
    "        }\n",
    "        \n",
    "        ncols = 4\n",
    "        nrows = 4\n",
    "\n",
    "        # create the plots\n",
    "        fig = plt.figure(figsize=(7,7))\n",
    "        plt.suptitle(title)\n",
    "        axes = [ fig.add_subplot(nrows, ncols, r * ncols + c) for r in range(0, nrows) for c in range(1, ncols+1) ]\n",
    "\n",
    "        # add some data\n",
    "        v = np.reshape(board, -1)\n",
    "        for i, ax in enumerate(axes):\n",
    "            ax.text(0.5, 0.5, str(int(v[i])), horizontalalignment='center', verticalalignment='center')\n",
    "            ax.set_facecolor(cell_colors[int(v[i])])\n",
    "\n",
    "        # remove the x and y ticks\n",
    "        for ax in axes:\n",
    "            ax.set_xticks([])\n",
    "            ax.set_yticks([])\n",
    "\n",
    "        plt.savefig('animations/frame_'+str(paso)+'.jpg')\n",
    "        plt.close()"
   ]
  },
  {
   "cell_type": "code",
   "execution_count": 139,
   "id": "c2c3d613",
   "metadata": {},
   "outputs": [
    {
     "name": "stdout",
     "output_type": "stream",
     "text": [
      "936\n",
      "score[[  2  16   4   8]\n",
      " [  8   4 128   2]\n",
      " [  4  16   2  16]\n",
      " [  2   8   4   2]]\n",
      "CPU times: user 4.72 ms, sys: 1.65 ms, total: 6.37 ms\n",
      "Wall time: 5.01 ms\n"
     ]
    }
   ],
   "source": [
    "%%time\n",
    "#!rm animations/*.jpg\n",
    "# commands 0:up, 1:right, 2:down, 3:left or Clockwise\n",
    "env=environment_2048_fortran\n",
    "sta1=env.reset()\n",
    "sta_final, score_final=simulation(env, sta1)\n",
    "print(sta_final)\n",
    "print(\"score\"+str(score_final))"
   ]
  },
  {
   "cell_type": "code",
   "execution_count": 140,
   "id": "116768a3",
   "metadata": {},
   "outputs": [],
   "source": [
    "def simulation(env, state, score, simulation_lenght):\n",
    "    board=np.copy(state) \n",
    "    for l in range(2,simulation_lenght):\n",
    "        am=env.available_moves(board)\n",
    "        rnd_move=np.random.choice(am)\n",
    "        score, board=env.step(board, rnd_move, score)\n",
    "        am=am-1\n",
    "        moves=not all(am==-1)\n",
    "        if not moves:\n",
    "            break\n",
    "            score =  score*(l/simulation_lenght)\n",
    "    return score, board\n",
    "\n",
    "\n",
    "def mc_tree_2(env, state, searches_per_move_rnd, simulation_lenght):\n",
    "    average_score=np.zeros(4)\n",
    "    for i in range(4): # Prove the four actions for a unique initial state\n",
    "        mean=0\n",
    "        for j in range(2,searches_per_move_rnd):\n",
    "            board=np.copy(state) \n",
    "            score=0\n",
    "            score, board=env.step(board,i+1,score)\n",
    "            available_moves=env.available_moves(board)\n",
    "            available_moves=available_moves-1\n",
    "            moves=not all(available_moves==-1)\n",
    "            #if len()==0:\n",
    "            if not moves:\n",
    "                break\n",
    "            score, board= simulation(env, board,score, simulation_lenght)\n",
    "               \n",
    "            mean=mean+(score-mean)/j\n",
    "            \n",
    "        average_score[i]=mean\n",
    "    return average_score"
   ]
  },
  {
   "cell_type": "markdown",
   "id": "4469c3c7",
   "metadata": {},
   "source": [
    "#### Single run"
   ]
  },
  {
   "cell_type": "code",
   "execution_count": 141,
   "id": "347fc2e1",
   "metadata": {},
   "outputs": [
    {
     "name": "stdout",
     "output_type": "stream",
     "text": [
      "[0 0 0 0]\n",
      "MC score moves : [0. 0. 0. 0.], greedy move = 1\n",
      "Game finished\n"
     ]
    },
    {
     "data": {
      "image/png": "[encoded data removed]",
      "text/plain": [
       "<Figure size 504x504 with 16 Axes>"
      ]
     },
     "metadata": {},
     "output_type": "display_data"
    },
    {
     "name": "stdout",
     "output_type": "stream",
     "text": [
      "CPU times: user 11min 5s, sys: 22.6 s, total: 11min 28s\n",
      "Wall time: 11min 12s\n"
     ]
    }
   ],
   "source": [
    "%%time\n",
    "#!rm animations/*.jpg\n",
    "# up = 1, left = 2, down = 3, right = 4 default is up\n",
    "env_f=environment_2048_fortran\n",
    "state=env_f.reset()\n",
    "#am=env.available_moves(state)\n",
    "i=0\n",
    "score=0\n",
    "moves=True\n",
    "rep = deque(maxlen=3)\n",
    "best_possible=True\n",
    "searches_per_move=400\n",
    "simulation_lenght =20\n",
    "while moves:\n",
    "    i+=1\n",
    "    am=env.available_moves(state)\n",
    "    print(am)\n",
    "    moves_prob=mc_tree_2(env_f, state,searches_per_move,simulation_lenght )\n",
    "    #print(\"The average scores at step %s are %s\" %(i, moves_prob))\n",
    "    greedy_move=np.argmax(moves_prob)\n",
    "    greedy_move+=1\n",
    "    max_score=np.max(moves_prob)\n",
    "    print(\"MC score moves : %s, greedy move = %s\" %(moves_prob,greedy_move ))\n",
    "#     rep.append(state)\n",
    "#     if np.amax(state)>= 4096 and np.array_equal(rep[0],rep[1]):\n",
    "#         greedy_move=np.random.choice(am)\n",
    "    score, state=env.step(state, greedy_move, score)\n",
    "            \n",
    "    am=am-1\n",
    "    moves=not all(am==-1)\n",
    "    if not moves:\n",
    "        print(\"Game finished\")\n",
    "        break\n",
    "\n",
    "    print(\"max tile= %s\" %(np.amax(state)) )\n",
    "#     if np.amax(state)>=2048:\n",
    "#         render_save(state,i)\n",
    "    #render(state,i)\n",
    "    print(state)\n",
    "    clear_output(wait=True)\n",
    "render(state,i)"
   ]
  },
  {
   "cell_type": "code",
   "execution_count": 87,
   "id": "c26faf51",
   "metadata": {},
   "outputs": [
    {
     "data": {
      "image/png": "[encoded data removed]",
      "text/plain": [
       "<Figure size 504x504 with 16 Axes>"
      ]
     },
     "metadata": {},
     "output_type": "display_data"
    }
   ],
   "source": [
    "render(state,i)"
   ]
  },
  {
   "cell_type": "code",
   "execution_count": 47,
   "id": "7c47fdb5",
   "metadata": {},
   "outputs": [
    {
     "data": {
      "text/plain": [
       "array([1, 2, 3, 4], dtype=int32)"
      ]
     },
     "execution_count": 47,
     "metadata": {},
     "output_type": "execute_result"
    }
   ],
   "source": [
    "env.available_moves(state)"
   ]
  },
  {
   "cell_type": "code",
   "execution_count": 35,
   "id": "189fbdc9",
   "metadata": {
    "scrolled": true
   },
   "outputs": [
    {
     "name": "stdout",
     "output_type": "stream",
     "text": [
      "[[0 0 0 0]\n",
      " [0 2 0 0]\n",
      " [0 0 0 0]\n",
      " [0 0 0 2]]\n",
      "[[0 2 0 2]\n",
      " [0 0 2 0]\n",
      " [0 0 0 0]\n",
      " [0 0 0 0]]\n",
      "[[0 2 0 0]\n",
      " [2 0 0 0]\n",
      " [0 0 0 0]\n",
      " [2 0 0 0]]\n",
      "[[0 0 0 2]\n",
      " [0 0 0 0]\n",
      " [0 0 0 0]\n",
      " [0 2 0 2]]\n",
      "[[0 0 0 0]\n",
      " [0 0 0 2]\n",
      " [0 0 2 0]\n",
      " [0 0 0 2]]\n"
     ]
    }
   ],
   "source": [
    "env_f=environment_2048_fortran\n",
    "state=env_f.reset()\n",
    "print(state)\n",
    "for i in range(4):\n",
    "    board=np.copy(state)\n",
    "    score, state1=env.step(board,i+1 , score)\n",
    "    print(state1)"
   ]
  },
  {
   "cell_type": "code",
   "execution_count": 34,
   "id": "732b709e",
   "metadata": {},
   "outputs": [
    {
     "name": "stdout",
     "output_type": "stream",
     "text": [
      "[[0 2 0 0]\n",
      " [0 0 0 2]\n",
      " [0 0 0 4]\n",
      " [0 0 0 4]]\n"
     ]
    }
   ],
   "source": [
    "print(state)"
   ]
  },
  {
   "cell_type": "code",
   "execution_count": 4,
   "id": "5d875187",
   "metadata": {},
   "outputs": [
    {
     "name": "stderr",
     "output_type": "stream",
     "text": [
      "ffmpeg version 4.4.1 Copyright (c) 2000-2021 the FFmpeg developers\n",
      "  built with clang version 11.1.0\n",
      "  configuration: --prefix=/Users/runner/miniforge3/conda-bld/ffmpeg_1636205452399/_h_env_placehold_placehold_placehold_placehold_placehold_placehold_placehold_placehold_placehold_placehold_placehold_placehold_placehold_placehold_placehold_placehold_placehold_placehold_placehold_pl --cc=arm64-apple-darwin20.0.0-clang --disable-doc --disable-openssl --enable-avresample --enable-demuxer=dash --enable-gnutls --enable-gpl --enable-hardcoded-tables --enable-libfreetype --enable-libopenh264 --enable-libx264 --enable-libx265 --enable-libaom --enable-libsvtav1 --enable-libxml2 --enable-libvpx --enable-pic --enable-pthreads --enable-shared --disable-static --enable-version3 --enable-zlib --enable-libmp3lame --pkg-config=/Users/runner/miniforge3/conda-bld/ffmpeg_1636205452399/_build_env/bin/pkg-config --enable-cross-compile --arch=arm64 --target-os=darwin --cross-prefix=arm64-apple-darwin20.0.0- --host-cc=/Users/runner/miniforge3/conda-bld/ffmpeg_1636205452399/_build_env/bin/x86_64-apple-darwin13.4.0-clang\n",
      "  libavutil      56. 70.100 / 56. 70.100\n",
      "  libavcodec     58.134.100 / 58.134.100\n",
      "  libavformat    58. 76.100 / 58. 76.100\n",
      "  libavdevice    58. 13.100 / 58. 13.100\n",
      "  libavfilter     7.110.100 /  7.110.100\n",
      "  libavresample   4.  0.  0 /  4.  0.  0\n",
      "  libswscale      5.  9.100 /  5.  9.100\n",
      "  libswresample   3.  9.100 /  3.  9.100\n",
      "  libpostproc    55.  9.100 / 55.  9.100\n",
      "Input #0, image2, from './animations/frame_%3d.jpg':\n",
      "  Duration: 00:03:56.90, start: 0.000000, bitrate: N/A\n",
      "  Stream #0:0: Video: mjpeg (Baseline), yuvj420p(pc, bt470bg/unknown/unknown), 504x504 [SAR 72:72 DAR 1:1], 10 fps, 10 tbr, 10 tbn, 10 tbc\n",
      "Stream mapping:\n",
      "  Stream #0:0 -> #0:0 (mjpeg (native) -> h264 (libx264))\n",
      "Press [q] to stop, [?] for help\n",
      "[libx264 @ 0x14d808e00] using SAR=1/1\n",
      "[libx264 @ 0x14d808e00] using cpu capabilities: ARMv8 NEON\n",
      "[libx264 @ 0x14d808e00] profile High, level 3.0, 4:2:0, 8-bit\n",
      "[libx264 @ 0x14d808e00] 264 - core 161 r3030M 8bd6d28 - H.264/MPEG-4 AVC codec - Copyleft 2003-2020 - http://www.videolan.org/x264.html - options: cabac=1 ref=3 deblock=1:0:0 analyse=0x3:0x113 me=hex subme=7 psy=1 psy_rd=1.00:0.00 mixed_ref=1 me_range=16 chroma_me=1 trellis=1 8x8dct=1 cqm=0 deadzone=21,11 fast_pskip=1 chroma_qp_offset=-2 threads=12 lookahead_threads=2 sliced_threads=0 nr=0 decimate=1 interlaced=0 bluray_compat=0 constrained_intra=0 bframes=3 b_pyramid=2 b_adapt=1 b_bias=0 direct=1 weightb=1 open_gop=0 weightp=2 keyint=250 keyint_min=10 scenecut=40 intra_refresh=0 rc_lookahead=40 rc=abr mbtree=1 bitrate=5000 ratetol=1.0 qcomp=0.60 qpmin=0 qpmax=69 qpstep=4 ip_ratio=1.40 aq=1:1.00\n",
      "Output #0, mp4, to './animations/2048.mp4':\n",
      "  Metadata:\n",
      "    encoder         : Lavf58.76.100\n",
      "  Stream #0:0: Video: h264 (avc1 / 0x31637661), yuvj420p(pc, bt470bg/unknown/unknown, progressive), 504x504 [SAR 72:72 DAR 1:1], q=2-31, 5000 kb/s, 10 fps, 10240 tbn\n",
      "    Metadata:\n",
      "      encoder         : Lavc58.134.100 libx264\n",
      "    Side data:\n",
      "      cpb: bitrate max/min/avg: 0/0/5000000 buffer size: 0 vbv_delay: N/A\n",
      "frame= 2369 fps=1223 q=-1.0 Lsize=    8184kB time=00:03:56.60 bitrate= 283.4kbits/s speed= 122x    \n",
      "video:8170kB audio:0kB subtitle:0kB other streams:0kB global headers:0kB muxing overhead: 0.180561%\n",
      "[libx264 @ 0x14d808e00] frame I:10    Avg QP: 0.56  size: 13745\n",
      "[libx264 @ 0x14d808e00] frame P:2123  Avg QP: 0.86  size:  3854\n",
      "[libx264 @ 0x14d808e00] frame B:236   Avg QP: 0.75  size:   192\n",
      "[libx264 @ 0x14d808e00] consecutive B-frames: 81.9% 13.4%  2.8%  1.9%\n",
      "[libx264 @ 0x14d808e00] mb I  I16..4: 87.5%  0.2% 12.3%\n",
      "[libx264 @ 0x14d808e00] mb P  I16..4: 18.7%  0.1%  1.5%  P16..4:  4.8%  0.2%  0.1%  0.0%  0.0%    skip:74.5%\n",
      "[libx264 @ 0x14d808e00] mb B  I16..4:  0.4%  0.0%  0.0%  B16..8:  6.9%  0.0%  0.0%  direct: 0.1%  skip:92.5%  L0:43.5% L1:56.5% BI: 0.0%\n",
      "[libx264 @ 0x14d808e00] final ratefactor: -26.99\n",
      "[libx264 @ 0x14d808e00] 8x8 transform intra:0.5% inter:67.1%\n",
      "[libx264 @ 0x14d808e00] coded y,uvDC,uvAC intra: 3.6% 9.9% 8.3% inter: 1.2% 1.8% 1.8%\n",
      "[libx264 @ 0x14d808e00] i16 v,h,dc,p: 73% 27%  0%  0%\n",
      "[libx264 @ 0x14d808e00] i8 v,h,dc,ddl,ddr,vr,hd,vl,hu: 21% 11% 57%  2%  3%  2%  2%  1%  1%\n",
      "[libx264 @ 0x14d808e00] i4 v,h,dc,ddl,ddr,vr,hd,vl,hu: 33% 24% 28%  2%  2%  3%  3%  2%  2%\n",
      "[libx264 @ 0x14d808e00] i8c dc,h,v,p: 53% 25% 22%  0%\n",
      "[libx264 @ 0x14d808e00] Weighted P-Frames: Y:0.0% UV:0.0%\n",
      "[libx264 @ 0x14d808e00] ref P L0: 21.8%  4.9% 49.9% 23.4%\n",
      "[libx264 @ 0x14d808e00] ref B L0: 98.4%  1.6%  0.0%\n",
      "[libx264 @ 0x14d808e00] kb/s:282.48\n"
     ]
    },
    {
     "data": {
      "text/plain": [
       "0"
      ]
     },
     "execution_count": 4,
     "metadata": {},
     "output_type": "execute_result"
    }
   ],
   "source": [
    "# to run this line, change to ds_portfolio\n",
    "import os\n",
    "os.system(\"ffmpeg -f image2 -r 10  -start_number 953 -i ./animations/frame_%3d.jpg -b:v 5000k -y ./animations/2048.mp4\")"
   ]
  },
  {
   "cell_type": "markdown",
   "id": "9ea129a4",
   "metadata": {},
   "source": [
    "### Disecting"
   ]
  },
  {
   "cell_type": "code",
   "execution_count": 21,
   "id": "e1f66dc9",
   "metadata": {},
   "outputs": [],
   "source": []
  },
  {
   "cell_type": "code",
   "execution_count": 24,
   "id": "a64e9531",
   "metadata": {},
   "outputs": [
    {
     "name": "stdout",
     "output_type": "stream",
     "text": [
      "Game finished\n",
      "[[   8    4    2    4]\n",
      " [   2   32  128    2]\n",
      " [  64 4096  256 1024]\n",
      " [   2    8   32    2]]\n",
      "CPU times: user 6min 6s, sys: 22.4 s, total: 6min 28s\n",
      "Wall time: 6min 11s\n"
     ]
    }
   ],
   "source": [
    "%%time\n",
    "#!rm animations/*.jpg\n",
    "# up = 1, left = 2, down = 3, right = 4 default is up\n",
    "env=environment_2048_fortran\n",
    "state=env.reset()\n",
    "#am=env.available_moves(state)\n",
    "i=0\n",
    "score=0\n",
    "moves=True\n",
    "#rep = deque(maxlen=3)\n",
    "best_possible=True\n",
    "searches_per_move=500\n",
    "simulation_lenght =15\n",
    "while moves:\n",
    "    i+=1\n",
    "    am=env.available_moves(state)\n",
    "    moves_prob=mc_tree_2_prime(env, state,searches_per_move,simulation_lenght )\n",
    "    #print(\"The average scores at step %s are %s\" %(i, moves_prob))\n",
    "    greedy_move=np.argmax(moves_prob)\n",
    "    greedy_move+=1\n",
    "    max_score=np.max(moves_prob)\n",
    "        \n",
    "    score, state=env.step(state, greedy_move, score)\n",
    "    \n",
    "    am=am-1\n",
    "    moves=not all(am==-1)\n",
    "    if not moves:\n",
    "        print(\"Game finished\")\n",
    "        break\n",
    "\n",
    "    print(\"max tile= %s\" %(np.amax(state)) )\n",
    "    #render_save(state,i)\n",
    "    #render(state,i)\n",
    "    print(state)\n",
    "    clear_output(wait=True)\n",
    "print(state)"
   ]
  },
  {
   "cell_type": "markdown",
   "id": "8287ebf7",
   "metadata": {},
   "source": [
    "### Multiple runs. Looking for the sweet spot for depth and number of trys."
   ]
  },
  {
   "cell_type": "code",
   "execution_count": 23,
   "id": "d68721cf",
   "metadata": {},
   "outputs": [],
   "source": [
    "scores_record= defaultdict(lambda: np.zeros(2, dtype=int)) # score:(depth,ntry)\n",
    "states_record=defaultdict(lambda: np.zeros(2)) # score:(depth,ntry)\n",
    "def multiple_trys(N):\n",
    "    #!rm animations/*.jpg\n",
    "    # up = 1, left = 2, down = 3, right = 4 default is up\n",
    "\n",
    "    for i in range(N):\n",
    "        depth =np.random.randint(5,40)\n",
    "        ntry =np.random.randint(200,600)\n",
    "        env=environment_2048_fortran\n",
    "        state=env_f.reset()\n",
    "        #am=env.available_moves(state)\n",
    "        i=0\n",
    "        score=0\n",
    "        moves=True\n",
    "        #rep = deque(maxlen=3)\n",
    "        best_possible=True\n",
    "        while moves:\n",
    "            i+=1\n",
    "            am=env.available_moves(state)\n",
    "            moves_prob=mc_tree_2(env_f, state,ntry,depth)\n",
    "            #print(\"The average scores at step %s are %s\" %(i, moves_prob))\n",
    "            greedy_move=np.argmax(moves_prob)\n",
    "            greedy_move+=1\n",
    "            max_score=np.max(moves_prob)\n",
    "\n",
    "            # It might happend that at some point later in the game, the best move from the tree search \n",
    "            # is not possible anymore (not available), so we might need to choose an action randomly \n",
    "            if greedy_move in am:\n",
    "                best_possible=True\n",
    "            else:\n",
    "                best_possible=False\n",
    "            if best_possible:\n",
    "                greedy_move=greedy_move\n",
    "            else:\n",
    "                greedy_move=np.random.choice(am)\n",
    "\n",
    "            score, state=env.step(state, greedy_move, score)\n",
    "            am=am-1\n",
    "            moves=not all(am==-1)\n",
    "            if not moves:\n",
    "                print(\"Game finished\")\n",
    "                break\n",
    "\n",
    "            print(\"max tile= %s\" %(np.amax(state)) )\n",
    "            \n",
    "            #render_save(state,i)\n",
    "            #render(state,i)\n",
    "            print(state)\n",
    "            clear_output(wait=True)\n",
    "        scores_record[score]=np.array([depth,ntry])\n",
    "        states_record[(depth,ntry)]=state\n",
    "        print(state)\n",
    "    return scores_record"
   ]
  },
  {
   "cell_type": "code",
   "execution_count": null,
   "id": "f4076e6a",
   "metadata": {},
   "outputs": [],
   "source": []
  }
 ],
 "metadata": {
  "kernelspec": {
   "display_name": "Python [conda env:tf_metal]",
   "language": "python",
   "name": "conda-env-tf_metal-py"
  },
  "language_info": {
   "codemirror_mode": {
    "name": "ipython",
    "version": 3
   },
   "file_extension": ".py",
   "mimetype": "text/x-python",
   "name": "python",
   "nbconvert_exporter": "python",
   "pygments_lexer": "ipython3",
   "version": "3.8.12"
  }
 },
 "nbformat": 4,
 "nbformat_minor": 5
}
